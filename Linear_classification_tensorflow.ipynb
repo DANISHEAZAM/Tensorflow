{
 "cells": [
  {
   "cell_type": "markdown",
   "id": "heavy-canal",
   "metadata": {},
   "source": [
    "# Standard Breast Cancer Dataset for linear classification "
   ]
  },
  {
   "cell_type": "code",
   "execution_count": 39,
   "id": "greatest-holly",
   "metadata": {},
   "outputs": [],
   "source": [
    "# lets import required libraries\n",
    "import tensorflow as tf\n",
    "import numpy as np\n",
    "import pandas as pd\n",
    "from sklearn.model_selection import train_test_split\n",
    "from sklearn.datasets import load_breast_cancer\n",
    "import matplotlib.pyplot as plt"
   ]
  },
  {
   "cell_type": "code",
   "execution_count": 40,
   "id": "improved-highlight",
   "metadata": {},
   "outputs": [
    {
     "data": {
      "text/plain": [
       "sklearn.utils.Bunch"
      ]
     },
     "execution_count": 40,
     "metadata": {},
     "output_type": "execute_result"
    }
   ],
   "source": [
    "#load the data\n",
    "data=load_breast_cancer()\n",
    "type(data)"
   ]
  },
  {
   "cell_type": "markdown",
   "id": "dedicated-keeping",
   "metadata": {},
   "source": [
    "## Try to do some EDA"
   ]
  },
  {
   "cell_type": "code",
   "execution_count": 41,
   "id": "detected-bulgarian",
   "metadata": {},
   "outputs": [
    {
     "data": {
      "text/plain": [
       "dict_keys(['data', 'target', 'frame', 'target_names', 'DESCR', 'feature_names', 'filename'])"
      ]
     },
     "execution_count": 41,
     "metadata": {},
     "output_type": "execute_result"
    }
   ],
   "source": [
    "data.keys()"
   ]
  },
  {
   "cell_type": "code",
   "execution_count": 42,
   "id": "located-insured",
   "metadata": {},
   "outputs": [
    {
     "data": {
      "text/plain": [
       "(569, 30)"
      ]
     },
     "execution_count": 42,
     "metadata": {},
     "output_type": "execute_result"
    }
   ],
   "source": [
    "data.data.shape"
   ]
  },
  {
   "cell_type": "code",
   "execution_count": 43,
   "id": "consolidated-nitrogen",
   "metadata": {},
   "outputs": [
    {
     "data": {
      "text/plain": [
       "'.. _breast_cancer_dataset:\\n\\nBreast cancer wisconsin (diagnostic) dataset\\n--------------------------------------------\\n\\n**Data Set Characteristics:**\\n\\n    :Number of Instances: 569\\n\\n    :Number of Attributes: 30 numeric, predictive attributes and the class\\n\\n    :Attribute Information:\\n        - radius (mean of distances from center to points on the perimeter)\\n        - texture (standard deviation of gray-scale values)\\n        - perimeter\\n        - area\\n        - smoothness (local variation in radius lengths)\\n        - compactness (perimeter^2 / area - 1.0)\\n        - concavity (severity of concave portions of the contour)\\n        - concave points (number of concave portions of the contour)\\n        - symmetry\\n        - fractal dimension (\"coastline approximation\" - 1)\\n\\n        The mean, standard error, and \"worst\" or largest (mean of the three\\n        worst/largest values) of these features were computed for each image,\\n        resulting in 30 features.  For instance, field 0 is Mean Radius, field\\n        10 is Radius SE, field 20 is Worst Radius.\\n\\n        - class:\\n                - WDBC-Malignant\\n                - WDBC-Benign\\n\\n    :Summary Statistics:\\n\\n    ===================================== ====== ======\\n                                           Min    Max\\n    ===================================== ====== ======\\n    radius (mean):                        6.981  28.11\\n    texture (mean):                       9.71   39.28\\n    perimeter (mean):                     43.79  188.5\\n    area (mean):                          143.5  2501.0\\n    smoothness (mean):                    0.053  0.163\\n    compactness (mean):                   0.019  0.345\\n    concavity (mean):                     0.0    0.427\\n    concave points (mean):                0.0    0.201\\n    symmetry (mean):                      0.106  0.304\\n    fractal dimension (mean):             0.05   0.097\\n    radius (standard error):              0.112  2.873\\n    texture (standard error):             0.36   4.885\\n    perimeter (standard error):           0.757  21.98\\n    area (standard error):                6.802  542.2\\n    smoothness (standard error):          0.002  0.031\\n    compactness (standard error):         0.002  0.135\\n    concavity (standard error):           0.0    0.396\\n    concave points (standard error):      0.0    0.053\\n    symmetry (standard error):            0.008  0.079\\n    fractal dimension (standard error):   0.001  0.03\\n    radius (worst):                       7.93   36.04\\n    texture (worst):                      12.02  49.54\\n    perimeter (worst):                    50.41  251.2\\n    area (worst):                         185.2  4254.0\\n    smoothness (worst):                   0.071  0.223\\n    compactness (worst):                  0.027  1.058\\n    concavity (worst):                    0.0    1.252\\n    concave points (worst):               0.0    0.291\\n    symmetry (worst):                     0.156  0.664\\n    fractal dimension (worst):            0.055  0.208\\n    ===================================== ====== ======\\n\\n    :Missing Attribute Values: None\\n\\n    :Class Distribution: 212 - Malignant, 357 - Benign\\n\\n    :Creator:  Dr. William H. Wolberg, W. Nick Street, Olvi L. Mangasarian\\n\\n    :Donor: Nick Street\\n\\n    :Date: November, 1995\\n\\nThis is a copy of UCI ML Breast Cancer Wisconsin (Diagnostic) datasets.\\nhttps://goo.gl/U2Uwz2\\n\\nFeatures are computed from a digitized image of a fine needle\\naspirate (FNA) of a breast mass.  They describe\\ncharacteristics of the cell nuclei present in the image.\\n\\nSeparating plane described above was obtained using\\nMultisurface Method-Tree (MSM-T) [K. P. Bennett, \"Decision Tree\\nConstruction Via Linear Programming.\" Proceedings of the 4th\\nMidwest Artificial Intelligence and Cognitive Science Society,\\npp. 97-101, 1992], a classification method which uses linear\\nprogramming to construct a decision tree.  Relevant features\\nwere selected using an exhaustive search in the space of 1-4\\nfeatures and 1-3 separating planes.\\n\\nThe actual linear program used to obtain the separating plane\\nin the 3-dimensional space is that described in:\\n[K. P. Bennett and O. L. Mangasarian: \"Robust Linear\\nProgramming Discrimination of Two Linearly Inseparable Sets\",\\nOptimization Methods and Software 1, 1992, 23-34].\\n\\nThis database is also available through the UW CS ftp server:\\n\\nftp ftp.cs.wisc.edu\\ncd math-prog/cpo-dataset/machine-learn/WDBC/\\n\\n.. topic:: References\\n\\n   - W.N. Street, W.H. Wolberg and O.L. Mangasarian. Nuclear feature extraction \\n     for breast tumor diagnosis. IS&T/SPIE 1993 International Symposium on \\n     Electronic Imaging: Science and Technology, volume 1905, pages 861-870,\\n     San Jose, CA, 1993.\\n   - O.L. Mangasarian, W.N. Street and W.H. Wolberg. Breast cancer diagnosis and \\n     prognosis via linear programming. Operations Research, 43(4), pages 570-577, \\n     July-August 1995.\\n   - W.H. Wolberg, W.N. Street, and O.L. Mangasarian. Machine learning techniques\\n     to diagnose breast cancer from fine-needle aspirates. Cancer Letters 77 (1994) \\n     163-171.'"
      ]
     },
     "execution_count": 43,
     "metadata": {},
     "output_type": "execute_result"
    }
   ],
   "source": [
    "data.DESCR"
   ]
  },
  {
   "cell_type": "code",
   "execution_count": 44,
   "id": "impaired-skiing",
   "metadata": {},
   "outputs": [
    {
     "data": {
      "text/plain": [
       "'C:\\\\Users\\\\BOND\\\\anaconda3\\\\envs\\\\first_project\\\\lib\\\\site-packages\\\\sklearn\\\\datasets\\\\data\\\\breast_cancer.csv'"
      ]
     },
     "execution_count": 44,
     "metadata": {},
     "output_type": "execute_result"
    }
   ],
   "source": [
    "data.filename"
   ]
  },
  {
   "cell_type": "code",
   "execution_count": 45,
   "id": "indirect-catering",
   "metadata": {},
   "outputs": [
    {
     "data": {
      "text/plain": [
       "array(['mean radius', 'mean texture', 'mean perimeter', 'mean area',\n",
       "       'mean smoothness', 'mean compactness', 'mean concavity',\n",
       "       'mean concave points', 'mean symmetry', 'mean fractal dimension',\n",
       "       'radius error', 'texture error', 'perimeter error', 'area error',\n",
       "       'smoothness error', 'compactness error', 'concavity error',\n",
       "       'concave points error', 'symmetry error',\n",
       "       'fractal dimension error', 'worst radius', 'worst texture',\n",
       "       'worst perimeter', 'worst area', 'worst smoothness',\n",
       "       'worst compactness', 'worst concavity', 'worst concave points',\n",
       "       'worst symmetry', 'worst fractal dimension'], dtype='<U23')"
      ]
     },
     "execution_count": 45,
     "metadata": {},
     "output_type": "execute_result"
    }
   ],
   "source": [
    "data.feature_names"
   ]
  },
  {
   "cell_type": "code",
   "execution_count": 46,
   "id": "variable-blast",
   "metadata": {},
   "outputs": [
    {
     "data": {
      "text/plain": [
       "array(['malignant', 'benign'], dtype='<U9')"
      ]
     },
     "execution_count": 46,
     "metadata": {},
     "output_type": "execute_result"
    }
   ],
   "source": [
    "data.target_names"
   ]
  },
  {
   "cell_type": "code",
   "execution_count": 47,
   "id": "alternate-observation",
   "metadata": {},
   "outputs": [
    {
     "data": {
      "text/plain": [
       "array([0, 0, 0, 0, 0, 0, 0, 0, 0, 0, 0, 0, 0, 0, 0, 0, 0, 0, 0, 1, 1, 1,\n",
       "       0, 0, 0, 0, 0, 0, 0, 0, 0, 0, 0, 0, 0, 0, 0, 1, 0, 0, 0, 0, 0, 0,\n",
       "       0, 0, 1, 0, 1, 1, 1, 1, 1, 0, 0, 1, 0, 0, 1, 1, 1, 1, 0, 1, 0, 0,\n",
       "       1, 1, 1, 1, 0, 1, 0, 0, 1, 0, 1, 0, 0, 1, 1, 1, 0, 0, 1, 0, 0, 0,\n",
       "       1, 1, 1, 0, 1, 1, 0, 0, 1, 1, 1, 0, 0, 1, 1, 1, 1, 0, 1, 1, 0, 1,\n",
       "       1, 1, 1, 1, 1, 1, 1, 0, 0, 0, 1, 0, 0, 1, 1, 1, 0, 0, 1, 0, 1, 0,\n",
       "       0, 1, 0, 0, 1, 1, 0, 1, 1, 0, 1, 1, 1, 1, 0, 1, 1, 1, 1, 1, 1, 1,\n",
       "       1, 1, 0, 1, 1, 1, 1, 0, 0, 1, 0, 1, 1, 0, 0, 1, 1, 0, 0, 1, 1, 1,\n",
       "       1, 0, 1, 1, 0, 0, 0, 1, 0, 1, 0, 1, 1, 1, 0, 1, 1, 0, 0, 1, 0, 0,\n",
       "       0, 0, 1, 0, 0, 0, 1, 0, 1, 0, 1, 1, 0, 1, 0, 0, 0, 0, 1, 1, 0, 0,\n",
       "       1, 1, 1, 0, 1, 1, 1, 1, 1, 0, 0, 1, 1, 0, 1, 1, 0, 0, 1, 0, 1, 1,\n",
       "       1, 1, 0, 1, 1, 1, 1, 1, 0, 1, 0, 0, 0, 0, 0, 0, 0, 0, 0, 0, 0, 0,\n",
       "       0, 0, 1, 1, 1, 1, 1, 1, 0, 1, 0, 1, 1, 0, 1, 1, 0, 1, 0, 0, 1, 1,\n",
       "       1, 1, 1, 1, 1, 1, 1, 1, 1, 1, 1, 0, 1, 1, 0, 1, 0, 1, 1, 1, 1, 1,\n",
       "       1, 1, 1, 1, 1, 1, 1, 1, 1, 0, 1, 1, 1, 0, 1, 0, 1, 1, 1, 1, 0, 0,\n",
       "       0, 1, 1, 1, 1, 0, 1, 0, 1, 0, 1, 1, 1, 0, 1, 1, 1, 1, 1, 1, 1, 0,\n",
       "       0, 0, 1, 1, 1, 1, 1, 1, 1, 1, 1, 1, 1, 0, 0, 1, 0, 0, 0, 1, 0, 0,\n",
       "       1, 1, 1, 1, 1, 0, 1, 1, 1, 1, 1, 0, 1, 1, 1, 0, 1, 1, 0, 0, 1, 1,\n",
       "       1, 1, 1, 1, 0, 1, 1, 1, 1, 1, 1, 1, 0, 1, 1, 1, 1, 1, 0, 1, 1, 0,\n",
       "       1, 1, 1, 1, 1, 1, 1, 1, 1, 1, 1, 1, 0, 1, 0, 0, 1, 0, 1, 1, 1, 1,\n",
       "       1, 0, 1, 1, 0, 1, 0, 1, 1, 0, 1, 0, 1, 1, 1, 1, 1, 1, 1, 1, 0, 0,\n",
       "       1, 1, 1, 1, 1, 1, 0, 1, 1, 1, 1, 1, 1, 1, 1, 1, 1, 0, 1, 1, 1, 1,\n",
       "       1, 1, 1, 0, 1, 0, 1, 1, 0, 1, 1, 1, 1, 1, 0, 0, 1, 0, 1, 0, 1, 1,\n",
       "       1, 1, 1, 0, 1, 1, 0, 1, 0, 1, 0, 0, 1, 1, 1, 0, 1, 1, 1, 1, 1, 1,\n",
       "       1, 1, 1, 1, 1, 0, 1, 0, 0, 1, 1, 1, 1, 1, 1, 1, 1, 1, 1, 1, 1, 1,\n",
       "       1, 1, 1, 1, 1, 1, 1, 1, 1, 1, 1, 1, 0, 0, 0, 0, 0, 0, 1])"
      ]
     },
     "execution_count": 47,
     "metadata": {},
     "output_type": "execute_result"
    }
   ],
   "source": [
    "data.target"
   ]
  },
  {
   "cell_type": "markdown",
   "id": "variable-bachelor",
   "metadata": {},
   "source": [
    "# Lets separate Data for training and testing"
   ]
  },
  {
   "cell_type": "code",
   "execution_count": 48,
   "id": "advised-glance",
   "metadata": {},
   "outputs": [
    {
     "data": {
      "text/plain": [
       "((398, 30), (171, 30), (398,), (171,))"
      ]
     },
     "execution_count": 48,
     "metadata": {},
     "output_type": "execute_result"
    }
   ],
   "source": [
    "X_train,X_test,y_train,y_test=train_test_split(data.data,data.target,test_size=0.3)\n",
    "X_train.shape,X_test.shape,y_train.shape,y_test.shape"
   ]
  },
  {
   "cell_type": "code",
   "execution_count": 49,
   "id": "delayed-smoke",
   "metadata": {},
   "outputs": [],
   "source": [
    "N,D=X_train.shape"
   ]
  },
  {
   "cell_type": "code",
   "execution_count": 50,
   "id": "seasonal-spanking",
   "metadata": {},
   "outputs": [],
   "source": [
    "# Scaling always plays a big factor in making an unbiased model\n",
    "from sklearn.preprocessing import StandardScaler\n",
    "scaler=StandardScaler()\n",
    "X_train=scaler.fit_transform(X_train)\n",
    "X_test=scaler.transform(X_test)"
   ]
  },
  {
   "cell_type": "code",
   "execution_count": 51,
   "id": "ecological-chancellor",
   "metadata": {},
   "outputs": [],
   "source": [
    "model=tf.keras.models.Sequential([\n",
    "    tf.keras.layers.Input(shape=(D,)),#This is the input layer with shape equal to no of features\n",
    "    tf.keras.layers.Dense(1,activation='sigmoid')\n",
    "])"
   ]
  },
  {
   "cell_type": "markdown",
   "id": "electronic-reasoning",
   "metadata": {},
   "source": [
    "# lets train"
   ]
  },
  {
   "cell_type": "code",
   "execution_count": 52,
   "id": "neutral-market",
   "metadata": {},
   "outputs": [
    {
     "name": "stdout",
     "output_type": "stream",
     "text": [
      "Epoch 1/100\n",
      "13/13 [==============================] - 2s 45ms/step - loss: 0.5645 - accuracy: 0.7009 - val_loss: 0.5537 - val_accuracy: 0.6784\n",
      "Epoch 2/100\n",
      "13/13 [==============================] - 0s 12ms/step - loss: 0.4912 - accuracy: 0.7604 - val_loss: 0.5033 - val_accuracy: 0.7719\n",
      "Epoch 3/100\n",
      "13/13 [==============================] - 0s 12ms/step - loss: 0.4825 - accuracy: 0.7725 - val_loss: 0.4599 - val_accuracy: 0.8187\n",
      "Epoch 4/100\n",
      "13/13 [==============================] - 0s 12ms/step - loss: 0.4106 - accuracy: 0.8435 - val_loss: 0.4238 - val_accuracy: 0.8421\n",
      "Epoch 5/100\n",
      "13/13 [==============================] - 0s 12ms/step - loss: 0.3750 - accuracy: 0.8871 - val_loss: 0.3939 - val_accuracy: 0.8596\n",
      "Epoch 6/100\n",
      "13/13 [==============================] - 0s 12ms/step - loss: 0.3644 - accuracy: 0.8847 - val_loss: 0.3686 - val_accuracy: 0.8772\n",
      "Epoch 7/100\n",
      "13/13 [==============================] - 0s 12ms/step - loss: 0.3351 - accuracy: 0.8921 - val_loss: 0.3475 - val_accuracy: 0.8889\n",
      "Epoch 8/100\n",
      "13/13 [==============================] - 0s 14ms/step - loss: 0.3048 - accuracy: 0.9036 - val_loss: 0.3287 - val_accuracy: 0.8830\n",
      "Epoch 9/100\n",
      "13/13 [==============================] - 0s 12ms/step - loss: 0.2771 - accuracy: 0.9285 - val_loss: 0.3125 - val_accuracy: 0.8830\n",
      "Epoch 10/100\n",
      "13/13 [==============================] - 0s 12ms/step - loss: 0.2751 - accuracy: 0.9109 - val_loss: 0.2984 - val_accuracy: 0.8889\n",
      "Epoch 11/100\n",
      "13/13 [==============================] - 0s 12ms/step - loss: 0.2630 - accuracy: 0.9200 - val_loss: 0.2860 - val_accuracy: 0.8947\n",
      "Epoch 12/100\n",
      "13/13 [==============================] - 0s 14ms/step - loss: 0.2435 - accuracy: 0.9372 - val_loss: 0.2748 - val_accuracy: 0.9006\n",
      "Epoch 13/100\n",
      "13/13 [==============================] - 0s 13ms/step - loss: 0.2597 - accuracy: 0.9286 - val_loss: 0.2652 - val_accuracy: 0.9006\n",
      "Epoch 14/100\n",
      "13/13 [==============================] - ETA: 0s - loss: 0.2183 - accuracy: 0.94 - 0s 20ms/step - loss: 0.2194 - accuracy: 0.9449 - val_loss: 0.2561 - val_accuracy: 0.9123\n",
      "Epoch 15/100\n",
      "13/13 [==============================] - 0s 20ms/step - loss: 0.2617 - accuracy: 0.8952 - val_loss: 0.2478 - val_accuracy: 0.9181\n",
      "Epoch 16/100\n",
      "13/13 [==============================] - 0s 14ms/step - loss: 0.2357 - accuracy: 0.9178 - val_loss: 0.2402 - val_accuracy: 0.9181\n",
      "Epoch 17/100\n",
      "13/13 [==============================] - 0s 23ms/step - loss: 0.2233 - accuracy: 0.9258 - val_loss: 0.2333 - val_accuracy: 0.9240\n",
      "Epoch 18/100\n",
      "13/13 [==============================] - 0s 13ms/step - loss: 0.2101 - accuracy: 0.9374 - val_loss: 0.2268 - val_accuracy: 0.9298\n",
      "Epoch 19/100\n",
      "13/13 [==============================] - 0s 12ms/step - loss: 0.2090 - accuracy: 0.9287 - val_loss: 0.2211 - val_accuracy: 0.9357\n",
      "Epoch 20/100\n",
      "13/13 [==============================] - 0s 12ms/step - loss: 0.1905 - accuracy: 0.9431 - val_loss: 0.2157 - val_accuracy: 0.9357\n",
      "Epoch 21/100\n",
      "13/13 [==============================] - 0s 15ms/step - loss: 0.1916 - accuracy: 0.9431 - val_loss: 0.2105 - val_accuracy: 0.9357\n",
      "Epoch 22/100\n",
      "13/13 [==============================] - 0s 14ms/step - loss: 0.1848 - accuracy: 0.9447 - val_loss: 0.2058 - val_accuracy: 0.9357\n",
      "Epoch 23/100\n",
      "13/13 [==============================] - 0s 15ms/step - loss: 0.1742 - accuracy: 0.9501 - val_loss: 0.2012 - val_accuracy: 0.9415\n",
      "Epoch 24/100\n",
      "13/13 [==============================] - 0s 13ms/step - loss: 0.1926 - accuracy: 0.9207 - val_loss: 0.1969 - val_accuracy: 0.9415\n",
      "Epoch 25/100\n",
      "13/13 [==============================] - 0s 12ms/step - loss: 0.1773 - accuracy: 0.9400 - val_loss: 0.1929 - val_accuracy: 0.9474\n",
      "Epoch 26/100\n",
      "13/13 [==============================] - 0s 13ms/step - loss: 0.1814 - accuracy: 0.9472 - val_loss: 0.1892 - val_accuracy: 0.9474\n",
      "Epoch 27/100\n",
      "13/13 [==============================] - 0s 12ms/step - loss: 0.1631 - accuracy: 0.9537 - val_loss: 0.1854 - val_accuracy: 0.9532\n",
      "Epoch 28/100\n",
      "13/13 [==============================] - 0s 13ms/step - loss: 0.1470 - accuracy: 0.9590 - val_loss: 0.1820 - val_accuracy: 0.9532\n",
      "Epoch 29/100\n",
      "13/13 [==============================] - 0s 12ms/step - loss: 0.1743 - accuracy: 0.9391 - val_loss: 0.1786 - val_accuracy: 0.9532\n",
      "Epoch 30/100\n",
      "13/13 [==============================] - 0s 12ms/step - loss: 0.1556 - accuracy: 0.9391 - val_loss: 0.1756 - val_accuracy: 0.9532\n",
      "Epoch 31/100\n",
      "13/13 [==============================] - 0s 12ms/step - loss: 0.1638 - accuracy: 0.9336 - val_loss: 0.1726 - val_accuracy: 0.9532\n",
      "Epoch 32/100\n",
      "13/13 [==============================] - 0s 12ms/step - loss: 0.1412 - accuracy: 0.9547 - val_loss: 0.1698 - val_accuracy: 0.9532\n",
      "Epoch 33/100\n",
      "13/13 [==============================] - 0s 12ms/step - loss: 0.1639 - accuracy: 0.9338 - val_loss: 0.1669 - val_accuracy: 0.9474\n",
      "Epoch 34/100\n",
      "13/13 [==============================] - 0s 14ms/step - loss: 0.1728 - accuracy: 0.9342 - val_loss: 0.1644 - val_accuracy: 0.9474\n",
      "Epoch 35/100\n",
      "13/13 [==============================] - 0s 12ms/step - loss: 0.1429 - accuracy: 0.9394 - val_loss: 0.1618 - val_accuracy: 0.9474\n",
      "Epoch 36/100\n",
      "13/13 [==============================] - 0s 12ms/step - loss: 0.1399 - accuracy: 0.9499 - val_loss: 0.1594 - val_accuracy: 0.9474\n",
      "Epoch 37/100\n",
      "13/13 [==============================] - 0s 13ms/step - loss: 0.1297 - accuracy: 0.9577 - val_loss: 0.1571 - val_accuracy: 0.9474\n",
      "Epoch 38/100\n",
      "13/13 [==============================] - 0s 11ms/step - loss: 0.1510 - accuracy: 0.9381 - val_loss: 0.1549 - val_accuracy: 0.9474\n",
      "Epoch 39/100\n",
      "13/13 [==============================] - 0s 11ms/step - loss: 0.1490 - accuracy: 0.9426 - val_loss: 0.1529 - val_accuracy: 0.9474\n",
      "Epoch 40/100\n",
      "13/13 [==============================] - 0s 12ms/step - loss: 0.1480 - accuracy: 0.9439 - val_loss: 0.1508 - val_accuracy: 0.9474\n",
      "Epoch 41/100\n",
      "13/13 [==============================] - 0s 11ms/step - loss: 0.1241 - accuracy: 0.9547 - val_loss: 0.1489 - val_accuracy: 0.9474\n",
      "Epoch 42/100\n",
      "13/13 [==============================] - 0s 11ms/step - loss: 0.1235 - accuracy: 0.9574 - val_loss: 0.1469 - val_accuracy: 0.9474\n",
      "Epoch 43/100\n",
      "13/13 [==============================] - 0s 12ms/step - loss: 0.1398 - accuracy: 0.9529 - val_loss: 0.1451 - val_accuracy: 0.9474\n",
      "Epoch 44/100\n",
      "13/13 [==============================] - 0s 11ms/step - loss: 0.1136 - accuracy: 0.9621 - val_loss: 0.1433 - val_accuracy: 0.9474\n",
      "Epoch 45/100\n",
      "13/13 [==============================] - 0s 11ms/step - loss: 0.1240 - accuracy: 0.9567 - val_loss: 0.1415 - val_accuracy: 0.9532\n",
      "Epoch 46/100\n",
      "13/13 [==============================] - 0s 11ms/step - loss: 0.1252 - accuracy: 0.9509 - val_loss: 0.1399 - val_accuracy: 0.9532\n",
      "Epoch 47/100\n",
      "13/13 [==============================] - 0s 11ms/step - loss: 0.1422 - accuracy: 0.9436 - val_loss: 0.1383 - val_accuracy: 0.9532\n",
      "Epoch 48/100\n",
      "13/13 [==============================] - 0s 11ms/step - loss: 0.1070 - accuracy: 0.9630 - val_loss: 0.1367 - val_accuracy: 0.9532\n",
      "Epoch 49/100\n",
      "13/13 [==============================] - 0s 12ms/step - loss: 0.1218 - accuracy: 0.9516 - val_loss: 0.1352 - val_accuracy: 0.9532\n",
      "Epoch 50/100\n",
      "13/13 [==============================] - 0s 14ms/step - loss: 0.1092 - accuracy: 0.9686 - val_loss: 0.1337 - val_accuracy: 0.9532\n",
      "Epoch 51/100\n",
      "13/13 [==============================] - 0s 11ms/step - loss: 0.1163 - accuracy: 0.9491 - val_loss: 0.1322 - val_accuracy: 0.9591\n",
      "Epoch 52/100\n",
      "13/13 [==============================] - 0s 11ms/step - loss: 0.1336 - accuracy: 0.9447 - val_loss: 0.1309 - val_accuracy: 0.9591\n",
      "Epoch 53/100\n",
      "13/13 [==============================] - 0s 12ms/step - loss: 0.1185 - accuracy: 0.9485 - val_loss: 0.1296 - val_accuracy: 0.9591\n",
      "Epoch 54/100\n",
      "13/13 [==============================] - 0s 11ms/step - loss: 0.1201 - accuracy: 0.9545 - val_loss: 0.1282 - val_accuracy: 0.9591\n",
      "Epoch 55/100\n",
      "13/13 [==============================] - 0s 12ms/step - loss: 0.1397 - accuracy: 0.9455 - val_loss: 0.1270 - val_accuracy: 0.9591\n",
      "Epoch 56/100\n",
      "13/13 [==============================] - 0s 12ms/step - loss: 0.1128 - accuracy: 0.9574 - val_loss: 0.1257 - val_accuracy: 0.9591\n",
      "Epoch 57/100\n",
      "13/13 [==============================] - 0s 12ms/step - loss: 0.1152 - accuracy: 0.9555 - val_loss: 0.1244 - val_accuracy: 0.9591\n",
      "Epoch 58/100\n"
     ]
    },
    {
     "name": "stdout",
     "output_type": "stream",
     "text": [
      "13/13 [==============================] - 0s 12ms/step - loss: 0.1078 - accuracy: 0.9626 - val_loss: 0.1232 - val_accuracy: 0.9591\n",
      "Epoch 59/100\n",
      "13/13 [==============================] - 0s 15ms/step - loss: 0.1167 - accuracy: 0.9533 - val_loss: 0.1220 - val_accuracy: 0.9649\n",
      "Epoch 60/100\n",
      "13/13 [==============================] - 0s 13ms/step - loss: 0.0961 - accuracy: 0.9659 - val_loss: 0.1210 - val_accuracy: 0.9649\n",
      "Epoch 61/100\n",
      "13/13 [==============================] - 0s 12ms/step - loss: 0.1130 - accuracy: 0.9577 - val_loss: 0.1199 - val_accuracy: 0.9649\n",
      "Epoch 62/100\n",
      "13/13 [==============================] - 0s 12ms/step - loss: 0.1183 - accuracy: 0.9551 - val_loss: 0.1188 - val_accuracy: 0.9649\n",
      "Epoch 63/100\n",
      "13/13 [==============================] - 0s 12ms/step - loss: 0.1197 - accuracy: 0.9539 - val_loss: 0.1177 - val_accuracy: 0.9649\n",
      "Epoch 64/100\n",
      "13/13 [==============================] - 0s 12ms/step - loss: 0.1102 - accuracy: 0.9504 - val_loss: 0.1167 - val_accuracy: 0.9649\n",
      "Epoch 65/100\n",
      "13/13 [==============================] - 0s 12ms/step - loss: 0.1102 - accuracy: 0.9509 - val_loss: 0.1158 - val_accuracy: 0.9649\n",
      "Epoch 66/100\n",
      "13/13 [==============================] - 0s 12ms/step - loss: 0.1051 - accuracy: 0.9646 - val_loss: 0.1149 - val_accuracy: 0.9649\n",
      "Epoch 67/100\n",
      "13/13 [==============================] - 0s 13ms/step - loss: 0.1024 - accuracy: 0.9688 - val_loss: 0.1138 - val_accuracy: 0.9649\n",
      "Epoch 68/100\n",
      "13/13 [==============================] - 0s 14ms/step - loss: 0.1093 - accuracy: 0.9618 - val_loss: 0.1131 - val_accuracy: 0.9649\n",
      "Epoch 69/100\n",
      "13/13 [==============================] - 0s 15ms/step - loss: 0.1197 - accuracy: 0.9365 - val_loss: 0.1121 - val_accuracy: 0.9649\n",
      "Epoch 70/100\n",
      "13/13 [==============================] - 0s 12ms/step - loss: 0.0871 - accuracy: 0.9731 - val_loss: 0.1112 - val_accuracy: 0.9649\n",
      "Epoch 71/100\n",
      "13/13 [==============================] - 0s 12ms/step - loss: 0.0856 - accuracy: 0.9678 - val_loss: 0.1103 - val_accuracy: 0.9649\n",
      "Epoch 72/100\n",
      "13/13 [==============================] - 0s 12ms/step - loss: 0.1074 - accuracy: 0.9525 - val_loss: 0.1095 - val_accuracy: 0.9649\n",
      "Epoch 73/100\n",
      "13/13 [==============================] - 0s 12ms/step - loss: 0.0861 - accuracy: 0.9723 - val_loss: 0.1086 - val_accuracy: 0.9649\n",
      "Epoch 74/100\n",
      "13/13 [==============================] - 0s 12ms/step - loss: 0.1204 - accuracy: 0.9608 - val_loss: 0.1078 - val_accuracy: 0.9649\n",
      "Epoch 75/100\n",
      "13/13 [==============================] - 0s 12ms/step - loss: 0.1159 - accuracy: 0.9629 - val_loss: 0.1072 - val_accuracy: 0.9708\n",
      "Epoch 76/100\n",
      "13/13 [==============================] - 0s 12ms/step - loss: 0.1143 - accuracy: 0.9622 - val_loss: 0.1064 - val_accuracy: 0.9708\n",
      "Epoch 77/100\n",
      "13/13 [==============================] - 0s 12ms/step - loss: 0.1014 - accuracy: 0.9710 - val_loss: 0.1056 - val_accuracy: 0.9766\n",
      "Epoch 78/100\n",
      "13/13 [==============================] - 0s 12ms/step - loss: 0.1104 - accuracy: 0.9601 - val_loss: 0.1049 - val_accuracy: 0.9766\n",
      "Epoch 79/100\n",
      "13/13 [==============================] - 0s 12ms/step - loss: 0.0948 - accuracy: 0.9743 - val_loss: 0.1042 - val_accuracy: 0.9766\n",
      "Epoch 80/100\n",
      "13/13 [==============================] - 0s 22ms/step - loss: 0.0978 - accuracy: 0.9636 - val_loss: 0.1034 - val_accuracy: 0.9766\n",
      "Epoch 81/100\n",
      "13/13 [==============================] - 0s 13ms/step - loss: 0.1073 - accuracy: 0.9627 - val_loss: 0.1028 - val_accuracy: 0.9766\n",
      "Epoch 82/100\n",
      "13/13 [==============================] - 0s 12ms/step - loss: 0.0971 - accuracy: 0.9618 - val_loss: 0.1020 - val_accuracy: 0.9766\n",
      "Epoch 83/100\n",
      "13/13 [==============================] - 0s 12ms/step - loss: 0.0944 - accuracy: 0.9678 - val_loss: 0.1015 - val_accuracy: 0.9766\n",
      "Epoch 84/100\n",
      "13/13 [==============================] - 0s 12ms/step - loss: 0.0834 - accuracy: 0.9765 - val_loss: 0.1007 - val_accuracy: 0.9825\n",
      "Epoch 85/100\n",
      "13/13 [==============================] - 0s 12ms/step - loss: 0.0949 - accuracy: 0.9623 - val_loss: 0.1000 - val_accuracy: 0.9825\n",
      "Epoch 86/100\n",
      "13/13 [==============================] - 0s 12ms/step - loss: 0.0849 - accuracy: 0.9784 - val_loss: 0.0993 - val_accuracy: 0.9825\n",
      "Epoch 87/100\n",
      "13/13 [==============================] - 0s 12ms/step - loss: 0.0912 - accuracy: 0.9754 - val_loss: 0.0988 - val_accuracy: 0.9825\n",
      "Epoch 88/100\n",
      "13/13 [==============================] - 0s 12ms/step - loss: 0.1135 - accuracy: 0.9657 - val_loss: 0.0982 - val_accuracy: 0.9825\n",
      "Epoch 89/100\n",
      "13/13 [==============================] - 0s 12ms/step - loss: 0.0811 - accuracy: 0.9799 - val_loss: 0.0976 - val_accuracy: 0.9825\n",
      "Epoch 90/100\n",
      "13/13 [==============================] - 0s 12ms/step - loss: 0.0746 - accuracy: 0.9835 - val_loss: 0.0969 - val_accuracy: 0.9825\n",
      "Epoch 91/100\n",
      "13/13 [==============================] - 0s 13ms/step - loss: 0.0910 - accuracy: 0.9730 - val_loss: 0.0963 - val_accuracy: 0.9825\n",
      "Epoch 92/100\n",
      "13/13 [==============================] - 0s 13ms/step - loss: 0.0761 - accuracy: 0.9812 - val_loss: 0.0958 - val_accuracy: 0.9825\n",
      "Epoch 93/100\n",
      "13/13 [==============================] - 0s 12ms/step - loss: 0.0875 - accuracy: 0.9741 - val_loss: 0.0952 - val_accuracy: 0.9825\n",
      "Epoch 94/100\n",
      "13/13 [==============================] - 0s 12ms/step - loss: 0.0940 - accuracy: 0.9679 - val_loss: 0.0946 - val_accuracy: 0.9825\n",
      "Epoch 95/100\n",
      "13/13 [==============================] - 0s 12ms/step - loss: 0.0941 - accuracy: 0.9704 - val_loss: 0.0941 - val_accuracy: 0.9825\n",
      "Epoch 96/100\n",
      "13/13 [==============================] - 0s 12ms/step - loss: 0.0914 - accuracy: 0.9694 - val_loss: 0.0937 - val_accuracy: 0.9825\n",
      "Epoch 97/100\n",
      "13/13 [==============================] - 0s 13ms/step - loss: 0.0933 - accuracy: 0.9615 - val_loss: 0.0932 - val_accuracy: 0.9825\n",
      "Epoch 98/100\n",
      "13/13 [==============================] - 0s 12ms/step - loss: 0.1011 - accuracy: 0.9731 - val_loss: 0.0928 - val_accuracy: 0.9825\n",
      "Epoch 99/100\n",
      "13/13 [==============================] - 0s 12ms/step - loss: 0.0877 - accuracy: 0.9789 - val_loss: 0.0922 - val_accuracy: 0.9825\n",
      "Epoch 100/100\n",
      "13/13 [==============================] - 0s 12ms/step - loss: 0.0984 - accuracy: 0.9746 - val_loss: 0.0918 - val_accuracy: 0.9825\n"
     ]
    }
   ],
   "source": [
    "model.compile(\n",
    "optimizer='adam',\n",
    "metrics=['accuracy'],\n",
    "loss='binary_crossentropy'\n",
    ")\n",
    "#lets move to fit data\n",
    "r=model.fit(X_train,y_train,validation_data=(X_test,y_test),epochs=100)"
   ]
  },
  {
   "cell_type": "code",
   "execution_count": 53,
   "id": "corresponding-hotel",
   "metadata": {},
   "outputs": [
    {
     "data": {
      "text/plain": [
       "<matplotlib.legend.Legend at 0x1f388fcb550>"
      ]
     },
     "execution_count": 53,
     "metadata": {},
     "output_type": "execute_result"
    },
    {
     "data": {
      "image/png": "[encoded data removed]",
      "text/plain": [
       "<Figure size 432x288 with 1 Axes>"
      ]
     },
     "metadata": {
      "needs_background": "light"
     },
     "output_type": "display_data"
    }
   ],
   "source": [
    "# lets check the performance loss\n",
    "plt.plot(r.history['loss'],label='Loss')\n",
    "plt.plot(r.history['val_loss'],label=\"Val_loss\")\n",
    "plt.legend()"
   ]
  },
  {
   "cell_type": "code",
   "execution_count": 54,
   "id": "academic-elimination",
   "metadata": {},
   "outputs": [
    {
     "data": {
      "text/plain": [
       "<matplotlib.legend.Legend at 0x1f38951ddc0>"
      ]
     },
     "execution_count": 54,
     "metadata": {},
     "output_type": "execute_result"
    },
    {
     "data": {
      "image/png": "[encoded data removed]",
      "text/plain": [
       "<Figure size 432x288 with 1 Axes>"
      ]
     },
     "metadata": {
      "needs_background": "light"
     },
     "output_type": "display_data"
    }
   ],
   "source": [
    "#lets check accuracy\n",
    "plt.plot(r.history['accuracy'],label='Accuracy')\n",
    "plt.plot(r.history['val_accuracy'],label='ValAccuracy')\n",
    "plt.legend()"
   ]
  },
  {
   "cell_type": "markdown",
   "id": "simplified-ebony",
   "metadata": {},
   "source": [
    "# This was just an introduction to Tensorflow obviously we will not be able to solve every problem so easily but the approach will be almost same for all supervised learning problems"
   ]
  }
 ],
 "metadata": {
  "kernelspec": {
   "display_name": "Python 3",
   "language": "python",
   "name": "python3"
  },
  "language_info": {
   "codemirror_mode": {
    "name": "ipython",
    "version": 3
   },
   "file_extension": ".py",
   "mimetype": "text/x-python",
   "name": "python",
   "nbconvert_exporter": "python",
   "pygments_lexer": "ipython3",
   "version": "3.8.5"
  }
 },
 "nbformat": 4,
 "nbformat_minor": 5
}
